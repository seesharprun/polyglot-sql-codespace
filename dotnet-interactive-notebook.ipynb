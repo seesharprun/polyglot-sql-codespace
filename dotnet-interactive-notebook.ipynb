{
 "cells": [
  {
   "cell_type": "code",
   "execution_count": null,
   "metadata": {
    "dotnet_interactive": {
     "language": "csharp"
    },
    "polyglot_notebook": {
     "kernelName": "csharp"
    }
   },
   "outputs": [],
   "source": [
    "#r \"nuget: Microsoft.DotNet.Interactive.SqlServer, *-*\""
   ]
  },
  {
   "cell_type": "code",
   "execution_count": null,
   "metadata": {
    "dotnet_interactive": {
     "language": "csharp"
    },
    "polyglot_notebook": {
     "kernelName": "csharp"
    }
   },
   "outputs": [],
   "source": [
    "#!connect mssql --kernel-name sidecar \"Server=sql,1433;Database=TicketDB;User Id=SA;Password=P@ssw.rd;TrustServerCertificate=true;\""
   ]
  },
  {
   "cell_type": "code",
   "execution_count": null,
   "metadata": {
    "dotnet_interactive": {
     "language": "sql"
    },
    "polyglot_notebook": {
     "kernelName": "sql"
    }
   },
   "outputs": [],
   "source": [
    "#!sql-sidecar\n",
    "\n",
    "SELECT \n",
    "\tId,\n",
    "\tBarCode\n",
    "FROM Tickets"
   ]
  }
 ],
 "metadata": {
  "kernelspec": {
   "display_name": ".NET (C#)",
   "language": "C#",
   "name": ".net-csharp"
  },
  "language_info": {
   "name": "polyglot-notebook"
  },
  "polyglot_notebook": {
   "kernelInfo": {
    "defaultKernelName": "csharp",
    "items": [
     {
      "aliases": [],
      "name": "csharp"
     },
     {
      "aliases": [],
      "languageName": "sql",
      "name": "sql"
     },
     {
      "aliases": [],
      "languageName": "T-SQL",
      "name": "sql-sidecar"
     }
    ]
   }
  }
 },
 "nbformat": 4,
 "nbformat_minor": 2
}
